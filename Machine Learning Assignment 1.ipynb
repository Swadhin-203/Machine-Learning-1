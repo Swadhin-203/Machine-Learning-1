{
 "cells": [
  {
   "cell_type": "markdown",
   "id": "866deffa",
   "metadata": {},
   "source": [
    "# Q1- Explain the follwing\n",
    "# a)Artificial Intelligence with an example\n",
    "Ans:Artifical Intelligence is a field of computer science which involves using computers to do things that traditionally require human intelligence. Some examples of the artificial intelligence are self driving car,speech recognition system like alexa and siri etc.\n",
    "# b)Machine Learning\n",
    "Ans:Machine Learning is a subfield of the artificial intelligence, which is broadly defined as the capability of machine to imitate intelligent human behavior.It focuses on using statistical techniques to build intelligent computer systems  to learn from available databases. Image recognition is an example of the Machine Learning.\n",
    "\n",
    "# c)Deep Learning\n",
    "Ans:Deep learning is a machine learning technique that teaches computers to do what comes naturally to humnas, learn by examples.Virtual assistants like Alexa,Siri and Cortana are the examples of the Deep Learning.\n",
    "\n"
   ]
  },
  {
   "cell_type": "markdown",
   "id": "fb644875",
   "metadata": {},
   "source": [
    "# Q2- What is Superviesed Learning?List some of examples of the Supervised Learning?\n",
    "Ans:Supervised learning is a machine learning approach where the model is trained on a labeled dataset, that is a dataset that has both input and output values.In this approach, the algorithim learns to map the input data to the correct output by finding patterns and relationships in the data.Some of the examples of the Supervised learning are:\n",
    "a)Regression: This is a type of supervised learning where the goal is to predict a continuous output variable. For example, predicting the price of a house based on its size, location, and other features.\n",
    "\n",
    "b)Classification: This is a type of supervised learning where the goal is to predict a categorical output variable. For example, predicting whether an email is spam or not based on its contents.\n",
    "\n",
    "c)Image classification: This is a type of supervised learning where the goal is to classify images into different categories. For example, identifying whether an image contains a cat or a dog.\n",
    "\n",
    "d)Natural Language Processing (NLP): This is a type of supervised learning where the goal is to process and understand natural language data, such as text or speech. For example, predicting the sentiment of a movie review or identifying the parts of speech in a sentence.\n",
    "\n",
    "e)Speech recognition: This is a type of supervised learning where the goal is to transcribe spoken words into text. For example, converting a spoken sentence into a written text"
   ]
  },
  {
   "cell_type": "markdown",
   "id": "8f89acdd",
   "metadata": {},
   "source": [
    "# Q3- What is Unsuperviesed Learning?List some of examples of the Unsupervised Learning?\n",
    "Ans:Unsupervised Learning is a type of machine learning where the algorithim is trained on an unlabeled dataset, that is a dataset without any target or output variable.In this approach, the algorothims learns to find patterns, structres, and relationships in the data without any prior knowledge o the output. It is useful when there is no labeled data or when we want to explore the data to gain insights.Some examples of unsupervised learning are:\n",
    "\n",
    "a)Clustering: This is a type of unsupervised learning where the goal is to group similar data points together based on their features or attributes. For example, grouping customers based on their purchasing behavior.\n",
    "\n",
    "b)Anomaly detection: This is a type of unsupervised learning where the goal is to identify data points that are significantly different from the rest of the data. For example, detecting credit card fraud based on unusual spending patterns.\n",
    "\n",
    "c)Dimensionality reduction: This is a type of unsupervised learning where the goal is to reduce the number of features or attributes in a dataset while preserving the important information. For example, reducing the number of features in an image without losing important details.\n",
    "\n",
    "d)Association rule learning: This is a type of unsupervised learning where the goal is to discover relationships between different items in a dataset. For example, finding the association between items that are frequently purchased together in a grocery store.\n",
    "\n",
    "e)Generative models: This is a type of unsupervised learning where the goal is to generate new data that is similar to the input data. For example, generating new images that are similar to a set of training images."
   ]
  },
  {
   "cell_type": "markdown",
   "id": "6d7788eb",
   "metadata": {},
   "source": [
    "# Q4-What is the difference between AI,Ml,DL,and DS?\n",
    "Ans:AI (Artificial Intelligence): AI is the broadest field that encompasses the creation of intelligent machines that can perform tasks that typically require human intelligence, such as perception, reasoning, learning, and problem-solving.\n",
    "\n",
    "ML (Machine Learning): ML is a subfield of AI that involves training machines to learn from data, without being explicitly programmed. ML algorithms can learn from patterns in data to improve their performance on a specific task over time. \n",
    "\n",
    "DL (Deep Learning): DL is a subfield of ML that uses neural networks with multiple layers to learn complex representations of data. DL has been particularly successful in tasks such as image recognition, speech recognition, and natural language processing\n",
    "\n",
    "DS (Data Science): DS is an interdisciplinary field that involves the extraction, cleaning, analysis, and visualization of data to gain insights and make data-driven decisions. DS includes various techniques from statistics, machine learning, and computer science to make sense of complex and large datasets."
   ]
  },
  {
   "cell_type": "markdown",
   "id": "7b4a0282",
   "metadata": {},
   "source": [
    "# Q5-What are the main difference between Supervised, Unsupervised and Semisupervised learning?\n",
    "Ans:The main difference between supervised, unsupervised, and semi-supervised learning is the availability of labeled data. Supervised learning uses labeled data, unsupervised learning uses unlabeled data, and semi-supervised learning uses both labeled and unlabeled data."
   ]
  },
  {
   "cell_type": "markdown",
   "id": "c7cb1c86",
   "metadata": {},
   "source": [
    "# Q6-What is train, test, validation split?Explain the importance of each term?\n",
    "Ans: Train, test, validation split is a common technique used in machine learning to evaluate the performance of a model on new, unseen data. The technique involves dividing the dataset into three parts: the training set, the validation set, and the test set.\n",
    "\n",
    "Training set: The training set is used to train the model. The model learns the patterns, structures, and relationships in the data by minimizing the error between the predicted and actual output on the training data. The model is optimized on the training data to achieve the best possible performance.\n",
    "\n",
    "Validation set: The validation set is used to evaluate the performance of the model during the training process. The model is evaluated on the validation data after each epoch or iteration to check if it is overfitting or underfitting. Overfitting occurs when the model performs well on the training data but poorly on the validation data, while underfitting occurs when the model performs poorly on both the training and validation data.\n",
    "\n",
    "Test set: The test set is used to evaluate the final performance of the model. The model is evaluated on the test data to check how well it generalizes to new, unseen data. The test data should be representative of the real-world data that the model is intended to work on.\n",
    "\n",
    "The importance of each term can be summarized as follows:\n",
    "\n",
    "Training set: The training set is essential for building the model. The model learns from the training data to make accurate predictions on new, unseen data.\n",
    "\n",
    "Validation set: The validation set is crucial for preventing overfitting and underfitting. By evaluating the model on the validation data, we can adjust the model's hyperparameters and prevent it from memorizing the training data.\n",
    "\n",
    "Test set: The test set is important for evaluating the final performance of the model. By evaluating the model on the test data, we can get an unbiased estimate of its performance on new, unseen data."
   ]
  },
  {
   "cell_type": "markdown",
   "id": "930e11d2",
   "metadata": {},
   "source": [
    "# Q7-How can Unsupervised Learning can be used in anomaly detection?\n",
    "Ans:Unsupervised learning can be used in anomaly detection by identifying patterns and structures in the data that are different from the normal behavior. Anomalies are rare events that deviate from the expected behavior of the system, and they can be caused by errors, fraud, cyber attacks, or other unusual events.\n",
    "\n",
    "One common approach to anomaly detection using unsupervised learning is to use clustering algorithms such as k-means or hierarchical clustering. These algorithms group similar data points together based on their proximity in the feature space. Anomalies are then identified as data points that do not belong to any cluster or belong to a small, isolated cluster. The distance or dissimilarity measure used in the clustering algorithm can be adjusted to make it more sensitive to anomalies.\n",
    "\n",
    "Another approach to anomaly detection using unsupervised learning is to use dimensionality reduction algorithms such as PCA (Principal Component Analysis) or t-SNE (t-Distributed Stochastic Neighbor Embedding). These algorithms reduce the high-dimensional data to a lower-dimensional space while preserving the most important information. Anomalies are then identified as data points that are far away from the normal data in the lower-dimensional space."
   ]
  },
  {
   "cell_type": "markdown",
   "id": "9e4157f0",
   "metadata": {},
   "source": [
    "# Q8-List Down some commonly used Supervised learning and Unsupervised learning algorithims?\n",
    "Ans:Some of the Commonly used Supervised Learning Algorithms are:\n",
    "\n",
    "1-Linear Regression\n",
    "2-Logistic Regression\n",
    "3-Support Vector Machines (SVM)\n",
    "4-Decision Trees\n",
    "5-Random Forests\n",
    "6-Naive Bayes\n",
    "7-k-Nearest Neighbors (k-NN)\n",
    "8-Neural Networks\n",
    "9-Gradient Boosting Machines (GBMs)\n",
    "10-AdaBoost\n",
    "\n",
    "Some commonly used Unsupervised Learning Algorithms:\n",
    "\n",
    "1-K-Means Clustering\n",
    "2-Hierarchical Clustering\n",
    "3-DBSCAN (Density-Based Spatial Clustering of Applications with Noise)\n",
    "4-Principal Component Analysis (PCA)\n",
    "5-t-SNE (t-Distributed Stochastic Neighbor Embedding)\n",
    "6-Anomaly Detection Algorithms (such as Isolation Forest and Local 7-Outlier Factor)\n",
    "8-Association Rule Mining Algorithms (such as Apriori and FP-Growth)\n",
    "9-Gaussian Mixture Models (GMM)\n",
    "10-Self-Organizing Maps (SOMs)\n",
    "11-Non-negative Matrix Factorization (NMF)"
   ]
  },
  {
   "cell_type": "code",
   "execution_count": null,
   "id": "3aaeac0a",
   "metadata": {},
   "outputs": [],
   "source": []
  }
 ],
 "metadata": {
  "kernelspec": {
   "display_name": "Python 3 (ipykernel)",
   "language": "python",
   "name": "python3"
  },
  "language_info": {
   "codemirror_mode": {
    "name": "ipython",
    "version": 3
   },
   "file_extension": ".py",
   "mimetype": "text/x-python",
   "name": "python",
   "nbconvert_exporter": "python",
   "pygments_lexer": "ipython3",
   "version": "3.10.5"
  }
 },
 "nbformat": 4,
 "nbformat_minor": 5
}
